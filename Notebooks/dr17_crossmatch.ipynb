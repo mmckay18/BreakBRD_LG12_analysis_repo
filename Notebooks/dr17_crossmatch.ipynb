{
 "cells": [
  {
   "cell_type": "code",
   "execution_count": 4,
   "metadata": {},
   "outputs": [],
   "source": [
    "#Searching for MaNGA data \n",
    "import os\n",
    "from astropy.io import fits\n",
    "from astropy.table import Table\n",
    "import numpy as np\n",
    "from astropy.coordinates import SkyCoord\n",
    "import astropy.units as u"
   ]
  },
  {
   "cell_type": "code",
   "execution_count": 5,
   "metadata": {},
   "outputs": [
    {
     "output_type": "execute_result",
     "data": {
      "text/plain": "<SkyCoord (ICRS): (ra, dec) in deg\n    [(194.52342394, 29.01735263), (298.03371   , 27.752152  ),\n     (332.60208984, 11.7130773 ), ..., (121.74477921, 46.5629692 ),\n     (121.43474063, 46.02442403), ( 70.32185   , 25.525777  )]>"
     },
     "metadata": {},
     "execution_count": 5
    }
   ],
   "source": [
    "# Download DR16 drpall file\n",
    "# https://data.sdss.org/sas/dr16/manga/spectro/redux/\n",
    "\n",
    "# Read in DR16\n",
    "drpall = Table.read('/Users/mmckay/Desktop/research/dr16_drpall-v2_4_3.fits')\n",
    "\n",
    "t=Table()\n",
    "t['Objra'] = drpall['objra'] \n",
    "t['Objdec'] = drpall['objdec']\n",
    "t['mangaid'] = drpall['mangaid']\n",
    "t['plateifu'] = drpall['plateifu']\n",
    "# Check for duplicated RA and Dec values (True = duplicates)\n",
    "len(drpall['objra']) != len(set(drpall['objra']))\n",
    "len(drpall['objdec']) != len(set(drpall['objdec']))\n",
    "\n",
    "#dr16_ra = np.unique(drpall['objra'])\n",
    "#dr16_dec = np.unique(drpall['objdec'])\n",
    "\n",
    "# Input DR16 ra and dec into Skycoord\n",
    "dr16_skycoord = SkyCoord(ra=drpall['objra'], dec=drpall['objdec'], frame='icrs', unit=u.deg)\n",
    "dr16_skycoord"
   ]
  },
  {
   "cell_type": "code",
   "execution_count": 3,
   "metadata": {},
   "outputs": [
    {
     "output_type": "execute_result",
     "data": {
      "text/plain": "XTENSION= 'BINTABLE'           / binary table extension                         \nBITPIX  =                    8 / array data type                                \nNAXIS   =                    2 / number of array dimensions                     \nNAXIS1  =                 1340 / length of dimension 1                          \nNAXIS2  =                11465 / length of dimension 2                          \nPCOUNT  =                    0 / number of group parameters                     \nGCOUNT  =                    1 / number of groups                               \nTFIELDS =                   99 / number of table fields                         \nTTYPE1  = 'plate   '                                                            \nTFORM1  = 'K       '                                                            \nTTYPE2  = 'ifudsgn '                                                            \nTFORM2  = '21A     '                                                            \nTTYPE3  = 'plateifu'                                                            \nTFORM3  = '11A     '                                                            \nTTYPE4  = 'mangaid '                                                            \nTFORM4  = '11A     '                                                            \nTTYPE5  = 'versdrp2'                                                            \nTFORM5  = '6A      '                                                            \nTTYPE6  = 'versdrp3'                                                            \nTFORM6  = '6A      '                                                            \nTTYPE7  = 'verscore'                                                            \nTFORM7  = '6A      '                                                            \nTTYPE8  = 'versutil'                                                            \nTFORM8  = '7A      '                                                            \nTTYPE9  = 'versprim'                                                            \nTFORM9  = '4A      '                                                            \nTTYPE10 = 'platetyp'                                                            \nTFORM10 = '14A     '                                                            \nTTYPE11 = 'srvymode'                                                            \nTFORM11 = '12A     '                                                            \nTTYPE12 = 'objra   '                                                            \nTFORM12 = 'D       '                                                            \nTTYPE13 = 'objdec  '                                                            \nTFORM13 = 'D       '                                                            \nTTYPE14 = 'ifuglon '                                                            \nTFORM14 = 'D       '                                                            \nTTYPE15 = 'ifuglat '                                                            \nTFORM15 = 'D       '                                                            \nTTYPE16 = 'ifura   '                                                            \nTFORM16 = 'D       '                                                            \nTTYPE17 = 'ifudec  '                                                            \nTFORM17 = 'D       '                                                            \nTTYPE18 = 'ebvgal  '                                                            \nTFORM18 = 'D       '                                                            \nTTYPE19 = 'nexp    '                                                            \nTFORM19 = 'K       '                                                            \nTTYPE20 = 'exptime '                                                            \nTFORM20 = 'D       '                                                            \nTTYPE21 = 'drp3qual'                                                            \nTFORM21 = 'K       '                                                            \nTTYPE22 = 'bluesn2 '                                                            \nTFORM22 = 'D       '                                                            \nTTYPE23 = 'redsn2  '                                                            \nTFORM23 = 'D       '                                                            \nTTYPE24 = 'harname '                                                            \nTFORM24 = '35A     '                                                            \nTTYPE25 = 'frlplug '                                                            \nTFORM25 = 'K       '                                                            \nTTYPE26 = 'cartid  '                                                            \nTFORM26 = '11A     '                                                            \nTTYPE27 = 'designid'                                                            \nTFORM27 = 'K       '                                                            \nTTYPE28 = 'cenra   '                                                            \nTFORM28 = 'D       '                                                            \nTTYPE29 = 'cendec  '                                                            \nTFORM29 = 'D       '                                                            \nTTYPE30 = 'airmsmin'                                                            \nTFORM30 = 'D       '                                                            \nTTYPE31 = 'airmsmed'                                                            \nTFORM31 = 'D       '                                                            \nTTYPE32 = 'airmsmax'                                                            \nTFORM32 = 'D       '                                                            \nTTYPE33 = 'seemin  '                                                            \nTFORM33 = 'D       '                                                            \nTTYPE34 = 'seemed  '                                                            \nTFORM34 = 'D       '                                                            \nTTYPE35 = 'seemax  '                                                            \nTFORM35 = 'D       '                                                            \nTTYPE36 = 'transmin'                                                            \nTFORM36 = 'D       '                                                            \nTTYPE37 = 'transmed'                                                            \nTFORM37 = 'D       '                                                            \nTTYPE38 = 'transmax'                                                            \nTFORM38 = 'D       '                                                            \nTTYPE39 = 'mjdmin  '                                                            \nTFORM39 = 'K       '                                                            \nTTYPE40 = 'mjdmed  '                                                            \nTFORM40 = 'K       '                                                            \nTTYPE41 = 'mjdmax  '                                                            \nTFORM41 = 'K       '                                                            \nTTYPE42 = 'gfwhm   '                                                            \nTFORM42 = 'D       '                                                            \nTTYPE43 = 'rfwhm   '                                                            \nTFORM43 = 'D       '                                                            \nTTYPE44 = 'ifwhm   '                                                            \nTFORM44 = 'D       '                                                            \nTTYPE45 = 'zfwhm   '                                                            \nTFORM45 = 'D       '                                                            \nTTYPE46 = 'mngtarg1'                                                            \nTFORM46 = 'K       '                                                            \nTTYPE47 = 'mngtarg2'                                                            \nTFORM47 = 'K       '                                                            \nTTYPE48 = 'mngtarg3'                                                            \nTFORM48 = 'K       '                                                            \nTTYPE49 = 'catidnum'                                                            \nTFORM49 = 'K       '                                                            \nTTYPE50 = 'plttarg '                                                            \nTFORM50 = '19A     '                                                            \nTTYPE51 = 'manga_tileid'                                                        \nTFORM51 = 'K       '                                                            \nTTYPE52 = 'nsa_iauname'                                                         \nTFORM52 = '19A     '                                                            \nTTYPE53 = 'ifudesignsize'                                                       \nTFORM53 = 'K       '                                                            \nTTYPE54 = 'ifutargetsize'                                                       \nTFORM54 = 'K       '                                                            \nTTYPE55 = 'ifudesignwrongsize'                                                  \nTFORM55 = 'K       '                                                            \nTTYPE56 = 'z       '                                                            \nTFORM56 = 'D       '                                                            \nTTYPE57 = 'zmin    '                                                            \nTFORM57 = 'D       '                                                            \nTTYPE58 = 'zmax    '                                                            \nTFORM58 = 'D       '                                                            \nTTYPE59 = 'szmin   '                                                            \nTFORM59 = 'D       '                                                            \nTTYPE60 = 'szmax   '                                                            \nTFORM60 = 'D       '                                                            \nTTYPE61 = 'ezmin   '                                                            \nTFORM61 = 'D       '                                                            \nTTYPE62 = 'ezmax   '                                                            \nTFORM62 = 'D       '                                                            \nTTYPE63 = 'probs   '                                                            \nTFORM63 = 'D       '                                                            \nTTYPE64 = 'pweight '                                                            \nTFORM64 = 'D       '                                                            \nTTYPE65 = 'psweight'                                                            \nTFORM65 = 'D       '                                                            \nTTYPE66 = 'psrweight'                                                           \nTFORM66 = 'D       '                                                            \nTTYPE67 = 'sweight '                                                            \nTFORM67 = 'D       '                                                            \nTTYPE68 = 'srweight'                                                            \nTFORM68 = 'D       '                                                            \nTTYPE69 = 'eweight '                                                            \nTFORM69 = 'D       '                                                            \nTTYPE70 = 'esweight'                                                            \nTFORM70 = 'D       '                                                            \nTTYPE71 = 'esrweight'                                                           \nTFORM71 = 'D       '                                                            \nTTYPE72 = 'nsa_field'                                                           \nTFORM72 = 'K       '                                                            \nTTYPE73 = 'nsa_run '                                                            \nTFORM73 = 'K       '                                                            \nTTYPE74 = 'nsa_camcol'                                                          \nTFORM74 = 'K       '                                                            \nTTYPE75 = 'nsa_version'                                                         \nTFORM75 = '6A      '                                                            \nTTYPE76 = 'nsa_nsaid'                                                           \nTFORM76 = 'K       '                                                            \nTTYPE77 = 'nsa_nsaid_v1b'                                                       \nTFORM77 = 'K       '                                                            \nTTYPE78 = 'nsa_z   '                                                            \nTFORM78 = 'D       '                                                            \nTTYPE79 = 'nsa_zdist'                                                           \nTFORM79 = 'D       '                                                            \nTTYPE80 = 'nsa_sersic_absmag'                                                   \nTFORM80 = '7D      '                                                            \nTTYPE81 = 'nsa_elpetro_absmag'                                                  \nTFORM81 = '7D      '                                                            \nTTYPE82 = 'nsa_elpetro_amivar'                                                  \nTFORM82 = '7D      '                                                            \nTTYPE83 = 'nsa_sersic_mass'                                                     \nTFORM83 = 'D       '                                                            \nTTYPE84 = 'nsa_elpetro_mass'                                                    \nTFORM84 = 'D       '                                                            \nTTYPE85 = 'nsa_elpetro_ba'                                                      \nTFORM85 = 'D       '                                                            \nTTYPE86 = 'nsa_elpetro_phi'                                                     \nTFORM86 = 'D       '                                                            \nTTYPE87 = 'nsa_extinction'                                                      \nTFORM87 = '7D      '                                                            \nTTYPE88 = 'nsa_elpetro_th50_r'                                                  \nTFORM88 = 'D       '                                                            \nTTYPE89 = 'nsa_petro_th50'                                                      \nTFORM89 = 'D       '                                                            \nTTYPE90 = 'nsa_petro_flux'                                                      \nTFORM90 = '7D      '                                                            \nTTYPE91 = 'nsa_petro_flux_ivar'                                                 \nTFORM91 = '7D      '                                                            \nTTYPE92 = 'nsa_elpetro_flux'                                                    \nTFORM92 = '7D      '                                                            \nTTYPE93 = 'nsa_elpetro_flux_ivar'                                               \nTFORM93 = '7D      '                                                            \nTTYPE94 = 'nsa_sersic_ba'                                                       \nTFORM94 = 'D       '                                                            \nTTYPE95 = 'nsa_sersic_n'                                                        \nTFORM95 = 'D       '                                                            \nTTYPE96 = 'nsa_sersic_phi'                                                      \nTFORM96 = 'D       '                                                            \nTTYPE97 = 'nsa_sersic_th50'                                                     \nTFORM97 = 'D       '                                                            \nTTYPE98 = 'nsa_sersic_flux'                                                     \nTFORM98 = '7D      '                                                            \nTTYPE99 = 'nsa_sersic_flux_ivar'                                                \nTFORM99 = '7D      '                                                            \nCHECKSUM= 'Ci86Fi54Ci54Ci54'   / HDU checksum updated 2018-03-24T22:06:55       \nDATASUM = '3521176918'         / data unit checksum updated 2018-03-24T22:06:55 "
     },
     "metadata": {},
     "execution_count": 3
    }
   ],
   "source": [
    "hdu = fits.open('/Users/mmckay/Desktop/research/dr16_drpall-v2_4_3.fits')\n",
    "hdu[1].header['*']"
   ]
  },
  {
   "cell_type": "code",
   "execution_count": 93,
   "metadata": {},
   "outputs": [
    {
     "data": {
      "text/plain": [
       "<SkyCoord (ICRS): (ra, dec) in deg\n",
       "    [(170.862, -0.714), (194.857, -2.248), (121.68 , 45.661),\n",
       "     (160.746, 65.146), (213.962,  1.883), (173.693,  2.921),\n",
       "     (121.921, 39.004), (143.092, 55.919), (150.034,  2.765),\n",
       "     (133.774, 51.635), (131.726,  2.56 ), (165.108,  4.224),\n",
       "     (168.869,  4.349), (150.415,  4.384), (128.633, 42.916),\n",
       "     (223.417,  2.921), (135.322, 47.36 ), (175.71 , 59.802),\n",
       "     (198.292,  5.328), (246.518, 46.368), (238.317, 53.544),\n",
       "     (241.033, 47.35 ), (247.674, 40.529), (226.835,  2.391),\n",
       "     (247.304, 41.151), (262.074, 60.015), (128.688, 38.342),\n",
       "     (171.785, 56.252), (189.817, 59.437), (155.704,  6.796),\n",
       "     (167.906,  7.412), (202.204, 53.443), (194.536, 54.467),\n",
       "     (255.248, 24.433), (231.591, 48.704), (127.357, 30.512),\n",
       "     (162.95 , 10.866), (136.337, 57.16 ), (132.913, 57.107),\n",
       "     (161.739, 39.562), (198.189, 46.935), (209.888, 56.041),\n",
       "     (192.769, 48.409), (238.398, 32.306), (233.899, 35.636),\n",
       "     (155.904, 42.351), (162.59 , 41.464), (227.901, 35.775),\n",
       "     (197.918, 44.357), (163.219, 43.428), (177.241, 11.455),\n",
       "     (199.231,  7.72 ), (190.102,  8.266), (236.806,  6.576),\n",
       "     (251.128, 19.941), (230.522,  5.855), (212.017,  7.328),\n",
       "     (214.93 , 49.237), (233.961,  9.567), (223.558, 12.502),\n",
       "     (246.114, 21.828), (231.743, 28.853), ( 21.204,  0.91 ),\n",
       "     (161.382, 13.32 ), (175.598, 15.561), (117.993, 15.711),\n",
       "     (241.729, 20.527), (139.835, 25.583), (200.846, 33.724),\n",
       "     (240.765, 21.697), (169.167, 31.479), (215.179, 26.418),\n",
       "     (194.68 , 28.91 ), (214.841, 26.305), (235.882, 17.313),\n",
       "     ( 20.387, -0.97 ), (147.112, 25.413), (169.427, 27.844),\n",
       "     (168.082, 28.571), (169.583, 29.38 ), (132.09 , 17.844),\n",
       "     (193.096, 26.645), (177.82 , 21.314), (239.827, 13.614),\n",
       "     (125.366, 12.393), (167.647, 22.191), (205.744, 22.159),\n",
       "     (198.053, 23.624), (221.109, 16.792), (206.816, 17.973),\n",
       "     (240.497, 12.562), (164.233, 17.114), ( 19.367, 14.704),\n",
       "     ( 18.437, 15.683), ( 29.211, 14.873), (162.839,  3.63 ),\n",
       "     (190.606, 64.489), (243.435, 52.571), (226.803, -0.96 ),\n",
       "     (333.817, -9.263), (166.589, 50.388), (132.736, 36.335),\n",
       "     (237.267, 42.847), (167.206,  8.644), (146.168, 39.385),\n",
       "     (135.496, 33.535), (145.462, 12.184), (116.51 , 18.717),\n",
       "     (148.107, 34.909), (221.438, 51.581), (165.777, 43.622),\n",
       "     (178.65 , 45.927), (202.752, 42.837), (191.501, 11.488),\n",
       "     (242.098, 23.473), (117.536, 50.045), (187.948, 34.267),\n",
       "     (200.486, 28.844), ( 19.744, -0.435), (132.201, 20.556),\n",
       "     (119.594, 12.202), (161.677, 25.932), (220.579, 17.511),\n",
       "     (160.429, 18.911), (231.543, 13.699), (232.125, 14.471)]>"
      ]
     },
     "execution_count": 93,
     "metadata": {},
     "output_type": "execute_result"
    }
   ],
   "source": [
    "# Read in BBRD sample\n",
    "my_table=np.loadtxt('sdss_129galaxies.txt', usecols=(0,1), skiprows=1)\n",
    "\n",
    "my_ra_list = np.empty((0,126))\n",
    "my_dec_list = np.empty((0,1286))\n",
    "for i in my_table:\n",
    "    ra_dec = np.split(i,2)\n",
    "    ra, dec = ra_dec[0], ra_dec[1]\n",
    "    ra, dec = '%.3f' % float(ra), '%.3f' % float(dec)\n",
    "    my_ra_list = np.append(my_ra_list, ra)\n",
    "    my_dec_list = np.append(my_dec_list, dec)\n",
    "\n",
    "# Check for duplicated RA and Dec values (True = duplicates)\n",
    "len(my_ra_list) != len(set(my_ra_list))\n",
    "len(my_dec_list) != len(set(my_dec_list))\n",
    "\n",
    "# Input DR16 ra and dec into Skycoord\n",
    "bbrd_skycoord = SkyCoord(ra=my_ra_list, dec=my_dec_list, frame='icrs', unit=u.deg)\n",
    "bbrd_skycoord\n"
   ]
  },
  {
   "cell_type": "code",
   "execution_count": 94,
   "metadata": {},
   "outputs": [],
   "source": [
    "match = bbrd_skycoord.match_to_catalog_sky(catalogcoord=dr16_skycoord, nthneighbor=1.)"
   ]
  },
  {
   "cell_type": "code",
   "execution_count": 95,
   "metadata": {},
   "outputs": [
    {
     "data": {
      "text/plain": [
       "126"
      ]
     },
     "execution_count": 95,
     "metadata": {},
     "output_type": "execute_result"
    }
   ],
   "source": [
    "len(bbrd_skycoord.ra.value)"
   ]
  },
  {
   "cell_type": "code",
   "execution_count": 96,
   "metadata": {},
   "outputs": [
    {
     "name": "stdout",
     "output_type": "stream",
     "text": [
      "1 121.921 39.004\n",
      "2 247.674 40.529\n",
      "3 247.304 41.151\n",
      "4 132.913 57.107\n",
      "5 198.189 46.935\n",
      "6 163.219 43.428\n",
      "7 221.438 51.581\n"
     ]
    }
   ],
   "source": [
    "prelim_ra_match_arr = np.empty((0, 126))\n",
    "prelim_dec_match_arr = np.empty((0, 126))\n",
    "for idx in match[0]:\n",
    "    prelim_ra_match = '%.3f' % dr16_skycoord.ra.value[idx]\n",
    "    prelim_dec_match = '%.3f' % dr16_skycoord.dec.value[idx]\n",
    "    prelim_ra_match_arr = np.append(prelim_ra_match_arr, prelim_ra_match)\n",
    "    prelim_dec_match_arr = np.append(prelim_dec_match_arr, prelim_dec_match)\n",
    "    #print(prelim_ra_match, prelim_dec_match)\n",
    "    \n",
    "\n",
    "match_ra = np.empty((0, 126))\n",
    "match_dec = np.empty((0, 126))\n",
    "a = 0\n",
    "for mra, mdec in zip(prelim_ra_match_arr, prelim_dec_match_arr):\n",
    "    for ra, dec in zip(my_ra_list, my_dec_list):\n",
    "        if mra == ra: #and mdec == dec:\n",
    "            a += 1\n",
    "            print(a,ra,dec)\n",
    "            match_ra = np.append(match_ra, ra)\n",
    "            match_dec = np.append(match_dec, dec)\n",
    "            \n",
    "            \n",
    "match_table = Table()\n",
    "match_table['match_ra'] = match_ra\n",
    "match_table['match_dec'] = match_dec\n",
    "match_table.write('dr16_match_ra_dec.txt',format='ascii.basic', overwrite=True)"
   ]
  },
  {
   "cell_type": "code",
   "execution_count": null,
   "metadata": {},
   "outputs": [],
   "source": []
  }
 ],
 "metadata": {
  "kernelspec": {
   "display_name": "Python 3",
   "language": "python",
   "name": "python3"
  },
  "language_info": {
   "codemirror_mode": {
    "name": "ipython",
    "version": 3
   },
   "file_extension": ".py",
   "mimetype": "text/x-python",
   "name": "python",
   "nbconvert_exporter": "python",
   "pygments_lexer": "ipython3",
   "version": "3.6.10-final"
  }
 },
 "nbformat": 4,
 "nbformat_minor": 2
}