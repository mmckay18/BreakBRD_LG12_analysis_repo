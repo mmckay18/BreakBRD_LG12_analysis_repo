{
 "cells": [
  {
   "cell_type": "code",
   "execution_count": 1,
   "metadata": {},
   "outputs": [],
   "source": [
    "import pandas as pd\n",
    "# import numpy as np\n",
    "# import matplotlib.pyplot as plt\n",
    "# plt.style.use('seaborn-dark')\n",
    "# import seaborn as sns"
   ]
  },
  {
   "cell_type": "markdown",
   "metadata": {},
   "source": [
    "# Steps:\n",
    "## - Merge SDSS global data text file to the Merged table on SDSS RA column\n",
    "<!-- ## - Merge Pipe3D table to merged table on SDSS RA column -->"
   ]
  },
  {
   "cell_type": "code",
   "execution_count": 8,
   "metadata": {},
   "outputs": [],
   "source": [
    "# Read in BBRD tables\n",
    "\n",
    "bbrd_ifu_match_df = pd.read_csv('/Users/mmckay/Desktop/research/BreakBRD_LG12_analysis_repo/final_MaNGAdr16_bbrd_crossmatch.csv')\n",
    "bbrd_global_df = pd.read_csv('/Users/mmckay/Desktop/research/BreakBRD_LG12_analysis_repo/MM_bbrd126_sdss_table.csv')\n",
    "bbrd_pipe3d_intergrated_df = pd.read_csv('/Users/mmckay/Desktop/research/BreakBRD_LG12_analysis_repo/bbrd_intergrated_measure_pipe3D.csv') # missing plateifu: 11758-1901\n",
    "\n",
    "# round to 2 sigfig RA and DEC to merge between dataframes\n",
    "ifu_match_round_ra_dec_series = pd.Series([3, 3, 3, 3], index=['Objra', 'Objdec', 'SDSS_RA_deg', 'SDSS_DEC_deg'])\n",
    "global_round_ra_dec_series = pd.Series([3, 3], index=['RASDSSinfo', 'DecSDSSinfo'])\n",
    "#Apply rounding to dataframes\n",
    "bbrd_ifu_match_df = bbrd_ifu_match_df.round(ifu_match_round_ra_dec_series)\n",
    "bbrd_global_df = bbrd_global_df.round(global_round_ra_dec_series)\n",
    "\n",
    "\n",
    "# merge MaNGA galaxies slected with final DR17 table\n",
    "bbrd_ifu_match_global_df_merge =  pd.merge(left=bbrd_ifu_match_df, right=bbrd_global_df, left_on='SDSS_RA_deg', right_on='RASDSSinfo', how='left')\n",
    "pipe3d_merged_ifu_global_df = pd.merge(left=bbrd_ifu_match_global_df_merge, right=bbrd_pipe3d_intergrated_df, left_on='plateifu', right_on='plateifu', how='left')\n",
    "\n",
    "# Set plateifu as the index\n",
    "pipe3d_merged_ifu_global_df.set_index(pipe3d_merged_ifu_global_df['plateifu'], inplace=True)\n",
    "\n",
    "\n",
    "pipe3d_merged_ifu_global_df.to_csv('/Users/mmckay/Desktop/research/BreakBRD_LG12_analysis_repo/bbrd_merged_database.csv')"
   ]
  },
  {
   "cell_type": "code",
   "execution_count": 10,
   "metadata": {},
   "outputs": [],
   "source": [
    "# Read in LG12 tables\n",
    "\n",
    "lg12_ifu_match_df = pd.read_csv('/Users/mmckay/Desktop/research/BreakBRD_LG12_analysis_repo/final_MaNGAdr16_lg12_crossmatch.csv')\n",
    "lg12_global_df = pd.read_csv('/Users/mmckay/Desktop/research/BreakBRD_LG12_analysis_repo/MM_lg12_4643_sdss_table.csv')\n",
    "lg12_pipe3d_intergrated_df = pd.read_csv('/Users/mmckay/Desktop/research/BreakBRD_LG12_analysis_repo/lg12_intergrated_measure_pipe3D.csv') # missing plateifu: 11758-1901\n",
    "\n",
    "# round to 2 sigfig RA and DEC to merge between dataframes\n",
    "ifu_match_round_ra_dec_series = pd.Series([3, 3, 3, 3], index=['Objra', 'Objdec', 'SDSS_RA_deg', 'SDSS_DEC_deg'])\n",
    "global_round_ra_dec_series = pd.Series([3, 3], index=['RASDSSinfo', 'DecSDSSinfo'])\n",
    "\n",
    "# Apply rounding to dataframes\n",
    "lg12_ifu_match_df = lg12_ifu_match_df.round(ifu_match_round_ra_dec_series)\n",
    "lg12_global_df = lg12_global_df.round(global_round_ra_dec_series)\n",
    "\n",
    "\n",
    "# merge MaNGA galaxies slected with final DR17 table\n",
    "lg12_ifu_match_global_df_merge =  pd.merge(left=lg12_ifu_match_df, right=lg12_global_df, left_on='SDSS_RA_deg', right_on='RASDSSinfo', how='left')\n",
    "pipe3d_merged_ifu_global_df = pd.merge(left=lg12_ifu_match_global_df_merge, right=lg12_pipe3d_intergrated_df, left_on='plateifu', right_on='plateifu', how='left')\n",
    "\n",
    "# Set plateifu as the index\n",
    "pipe3d_merged_ifu_global_df.set_index(pipe3d_merged_ifu_global_df['plateifu'], inplace=True)\n",
    "\n",
    "# Save new dataframe as csv file\n",
    "pipe3d_merged_ifu_global_df.to_csv('/Users/mmckay/Desktop/research/BreakBRD_LG12_analysis_repo/lg12_merged_database.csv')"
   ]
  },
  {
   "cell_type": "code",
   "execution_count": null,
   "metadata": {},
   "outputs": [],
   "source": [
    "# master_table = pd.read_csv('/Users/mmckay/Desktop/research/FMR_MZR/bbrd_master_database.csv')\n",
    "\n",
    "# # # Remove galzoo data\n",
    "# # master_table.drop(master_table.loc[:, 'B':'D'].columns, axis = 1, inplace = True)\n",
    "\n",
    "# master_table.head(7)"
   ]
  },
  {
   "cell_type": "code",
   "execution_count": 34,
   "metadata": {},
   "outputs": [],
   "source": [
    "# # Read in LG12 ifu matched data\n",
    "# lg12_ifu_match_df = pd.read_csv('/Users/mmckay/Desktop/research/FMR_MZR/final_MaNGAdr16_lg12_crossmatch.csv')\n",
    "# lg12_ifu_radec_round = pd.Series([3, 3], index=['Objra', 'Objdec'])\n",
    "# lg12_ifu_match_df = lg12_ifu_match_df.round(lg12_ifu_radec_round)\n",
    "\n",
    "# all_lg12_sample_df = pd.read_csv('/Users/mmckay/Desktop/research/FMR_MZR/lg12_all_global_tab.csv')\n",
    "# all_lg12_radec_round = pd.Series([3, 3], index=['RASDSSinfo', 'DecSDSSinfo'])\n",
    "# all_lg12_sample_df = all_lg12_sample_df.round(all_lg12_radec_round)\n",
    "\n",
    "# pipe3d_integrated_df = pd.read_csv('/Users/mmckay/Desktop/research/FMR_MZR/lg12_MMfits/lg12_intergrated_measure_pipe3D.csv')\n",
    "\n",
    "# # merge MaNGA galaxies slected with final DR16 table\n",
    "# ifu_global_df_merge = pd.merge(left=lg12_ifu_match_df, right=all_lg12_sample_df, left_on='Objra', right_on='RASDSSinfo', how='left')\n",
    "# # gz2_sdss_merge = pd.merge(left=ifu_global_df_merge, right=all_lg12_sample_df, left_on='SDSS_RA_deg_x', right_on='RASDSSinfo', how='left')\n",
    "# pipe3d_int_merge= pd.merge(left=ifu_global_df_merge, right=pipe3d_integrated_df, left_on='plateifu', right_on='plateifu', how='left')\n",
    "# pipe3d_int_merge.drop_duplicates(subset='plateifu', inplace=True)\n",
    "# pipe3d_int_merge.to_csv('/Users/mmckay/Desktop/research/FMR_MZR/lg12_ifu_global_table.csv')\n"
   ]
  }
 ],
 "metadata": {
  "interpreter": {
   "hash": "7f2490a7909a0b1041f3a47ebb71872ac623417d99b53437ed1400d7705c5ac2"
  },
  "kernelspec": {
   "display_name": "Python 3.6.10 64-bit ('marvin_v2': conda)",
   "name": "python3"
  },
  "language_info": {
   "codemirror_mode": {
    "name": "ipython",
    "version": 3
   },
   "file_extension": ".py",
   "mimetype": "text/x-python",
   "name": "python",
   "nbconvert_exporter": "python",
   "pygments_lexer": "ipython3",
   "version": "3.6.10"
  },
  "orig_nbformat": 4
 },
 "nbformat": 4,
 "nbformat_minor": 2
}
