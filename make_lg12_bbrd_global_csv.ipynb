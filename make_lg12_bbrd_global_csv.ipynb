{
 "cells": [
  {
   "cell_type": "code",
   "execution_count": 1,
   "metadata": {},
   "outputs": [],
   "source": [
    "import numpy as np\n",
    "# import matplotlib.pylab as plt\n",
    "# from astropy.cosmology import FlatLambdaCDM\n",
    "from astropy.io import fits as pyfits\n",
    "from astropy.coordinates import SkyCoord\n",
    "from astropy import units as u\n",
    "# import pandas as pd"
   ]
  },
  {
   "cell_type": "markdown",
   "metadata": {},
   "source": [
    "# **<span style='color:Orange '> Make CSV files for BBRD and LG12 global data from DR7 catalog </span>** \n",
    "***"
   ]
  },
  {
   "cell_type": "markdown",
   "metadata": {},
   "source": [
    "## **<span style='color:Cyan '> 1. Assign a variable for emsission lines from DR7 catalog from gal_line_dr7_v5_2.fit </span>**"
   ]
  },
  {
   "cell_type": "code",
   "execution_count": 2,
   "metadata": {
    "tags": []
   },
   "outputs": [],
   "source": [
    "# Emission line fluxes\n",
    "gal_line = pyfits.open('/Users/mmckay/Desktop/research/bbrd_lg12_global_ifu_database/gal_line_dr7_v5_2.fit')\n",
    "# print(gal_line[1].columns)\n",
    "\n",
    "tblines = gal_line[1].data\n",
    "#print gal_line[1].columns\n",
    "PlateID_lines = tblines['PLATEID']\n",
    "FiberID_lines = tblines['FIBERID']\n",
    "H_Delta = tblines['H_DELTA_FLUX']\n",
    "H_Beta = tblines['H_BETA_FLUX']\n",
    "H_Alpha = tblines['H_ALPHA_FLUX']\n",
    "OIII_5007 = tblines['OIII_5007_FLUX']\n",
    "OIII_4959 = tblines['OIII_4959_FLUX']\n",
    "NII_6548 = tblines['NII_6548_FLUX']\n",
    "NII_6584 = tblines['NII_6584_FLUX']\n",
    "SII_6717 = tblines['SII_6717_FLUX']\n",
    "SII_6731 = tblines['SII_6731_FLUX']\n",
    "OII_3726 = tblines['OII_3726_FLUX']\n",
    "OII_3729 = tblines['OII_3729_FLUX']\n",
    "OI_6300 = tblines['OI_6300_FLUX']\n",
    "\n",
    "# Emission line error\n",
    "H_Delta_err = tblines['H_DELTA_FLUX_ERR']\n",
    "H_Beta_err = tblines['H_BETA_FLUX_ERR']\n",
    "H_Alpha_err = tblines['H_ALPHA_FLUX_ERR']\n",
    "OIII_5007_err = tblines['OIII_5007_FLUX_ERR']\n",
    "OIII_4959_err = tblines['OIII_4959_FLUX_ERR']\n",
    "NII_6548_err = tblines['NII_6548_FLUX_ERR']\n",
    "NII_6584_err = tblines['NII_6584_FLUX_ERR']\n",
    "SII_6717_err = tblines['SII_6717_FLUX_ERR']\n",
    "SII_6731_err = tblines['SII_6731_FLUX_ERR']\n",
    "OII_3726_err = tblines['OII_3726_FLUX_ERR']\n",
    "OII_3729_err = tblines['OII_3729_FLUX_ERR']\n",
    "OI_6300_err = tblines['OI_6300_FLUX_ERR']"
   ]
  },
  {
   "cell_type": "markdown",
   "metadata": {},
   "source": [
    "## **<span style='color:Cyan '> 2. Assign variables for Log(O/H)+12 median and avg from DR7 catalog from gal_fiboh_dr7_v5_2.fits </span>**\n"
   ]
  },
  {
   "cell_type": "code",
   "execution_count": 3,
   "metadata": {
    "tags": []
   },
   "outputs": [
    {
     "name": "stdout",
     "output_type": "stream",
     "text": [
      "Filename: /Users/mmckay/Desktop/research/bbrd_lg12_global_ifu_database/gal_fiboh_dr7_v5_2.fits\n",
      "No.    Name      Ver    Type      Cards   Dimensions   Format\n",
      "  0  PRIMARY       1 PrimaryHDU       4   ()      \n",
      "  1                1 BinTableHDU     33   927552R x 8C   [E, E, E, E, E, E, E, D]   \n",
      "ColDefs(\n",
      "    name = 'MEDIAN'; format = 'E'\n",
      "    name = 'P16'; format = 'E'\n",
      "    name = 'P84'; format = 'E'\n",
      "    name = 'P2P5'; format = 'E'\n",
      "    name = 'P97P5'; format = 'E'\n",
      "    name = 'MODE'; format = 'E'\n",
      "    name = 'AVG'; format = 'E'\n",
      "    name = 'ENTROPY'; format = 'D'\n",
      ")\n"
     ]
    }
   ],
   "source": [
    "gal_Z = pyfits.open('/Users/mmckay/Desktop/research/bbrd_lg12_global_ifu_database/gal_fiboh_dr7_v5_2.fits')\n",
    "gal_Z.info()\n",
    "print(gal_Z[1].columns)\n",
    "gal_Z[1].columns\n",
    "Z_data = gal_Z[1].data\n",
    "Z_med = Z_data['MEDIAN']\n",
    "Z_avg = Z_data['AVG']\n",
    "gal_Z.close()"
   ]
  },
  {
   "cell_type": "markdown",
   "metadata": {},
   "source": [
    "## **<span style='color:Cyan '> 3. Assign variables median and avg total stellar mass from DR7 catalog from totlgm_dr7_v5_2b.fit </span>**"
   ]
  },
  {
   "cell_type": "code",
   "execution_count": 4,
   "metadata": {
    "tags": []
   },
   "outputs": [],
   "source": [
    "gal_mass = pyfits.open('/Users/mmckay/Desktop/research/bbrd_lg12_global_ifu_database/totlgm_dr7_v5_2b.fit')\n",
    "tblmass = gal_mass[1].data\n",
    "# print (gal_mass[1].columns)\n",
    "\n",
    "MASS_avg_all = tblmass['AVG']\n",
    "MASS_med_all = tblmass['MEDIAN']"
   ]
  },
  {
   "cell_type": "markdown",
   "metadata": {},
   "source": [
    "## **<span style='color:Cyan '> 4. Assign variables for spectral index from DR7 catalog from gal_indx_dr7_v5_2.fit </span>**"
   ]
  },
  {
   "cell_type": "code",
   "execution_count": 5,
   "metadata": {
    "tags": []
   },
   "outputs": [],
   "source": [
    "gal_ind = pyfits.open('/Users/mmckay/Desktop/research/bbrd_lg12_global_ifu_database/gal_indx_dr7_v5_2.fit')\n",
    "tbind = gal_ind[1].data\n",
    "\n",
    "PlateID_ind = tbind['PLATEID']\n",
    "FiberID_ind = tbind['FIBERID']\n",
    "D4000n = tbind['D4000_n']\n",
    "D4000n_err = tbind['D4000_N_ERR']\n",
    "D4000 = tbind['D4000']\n",
    "D4000_err = tbind['D4000_ERR']\n",
    "\n",
    "\n",
    "# print (np.min(Decs),np.max(Decs))\n",
    "#print (RAwu[110:120],RAw[110:120],RAr[110:1120])\n",
    "#print (Decwu[110:120],Decw[110:120],Decr[110:1120])\n",
    "#print (W1w[110:120])"
   ]
  },
  {
   "cell_type": "markdown",
   "metadata": {},
   "source": [
    "## **<span style='color:Cyan '> 5. Assign variables for Petrosian Radius from DR7 catalog from gal_fnal_dr7_v5_2.fit </span>**"
   ]
  },
  {
   "cell_type": "code",
   "execution_count": 6,
   "metadata": {
    "tags": []
   },
   "outputs": [
    {
     "name": "stdout",
     "output_type": "stream",
     "text": [
      "petroRad size\n"
     ]
    }
   ],
   "source": [
    "gal_fnal = pyfits.open('/Users/mmckay/Desktop/research/bbrd_lg12_global_ifu_database/gal_fnal_dr7_v5_2.fit')\n",
    "tbfnal = gal_fnal[1].data\n",
    "petroRad_all = tbfnal['petroRad'][:,2]\n",
    "petroRade_all = tbfnal['petroRadErr'][:,2]\n",
    "petroR90_all = tbfnal['petroR90'][:,2]\n",
    "petroR90e_all = tbfnal['petroR90Err'][:,2]\n",
    "petroR50_all = tbfnal['petroR50'][:,2]\n",
    "petroR50e_all = tbfnal['petroR50Err'][:,2]\n",
    "print ('petroRad size')\n",
    "# print (petroRad_all[0])\n",
    "#fibSFR_flag_all = tbfibsfr['FLAG']"
   ]
  },
  {
   "cell_type": "markdown",
   "metadata": {},
   "source": [
    "## **<span style='color:Cyan '> 6. Assign variables for ugriz Color Magnitude and fiber and total mass an from DR7 catalog from gal_fnal_dr7_v5_2.fit </span>**"
   ]
  },
  {
   "cell_type": "code",
   "execution_count": 7,
   "metadata": {},
   "outputs": [],
   "source": [
    "gal_kcorrect = pyfits.open('/Users/mmckay/Desktop/research/bbrd_lg12_global_ifu_database/gal_kcorrect_dr7_v5_2.fits')\n",
    "# print (gal_kcorrect[1].columns)\n",
    "tbkcorrect = gal_kcorrect[1].data\n",
    "# print (tbkcorrect[0])\n",
    "PETRO_MASS = tbkcorrect['PETRO_MASS']\n",
    "PETRO_ABSMAG = tbkcorrect['PETRO_ABSMAG']\n",
    "MODEL_MASS = tbkcorrect['MODEL_MASS']\n",
    "FIBER_MASS = tbkcorrect['FIBER_MASS']\n",
    "\n",
    "U_mag_all = PETRO_ABSMAG[:,0]\n",
    "G_mag_all = PETRO_ABSMAG[:,1]\n",
    "R_mag_all = PETRO_ABSMAG[:,2]\n",
    "I_mag_all = PETRO_ABSMAG[:,3]\n",
    "Z_mag_all = PETRO_ABSMAG[:,4]\n",
    "# Mstar_petro_all = PETRO_MASS\n",
    "\n",
    "# Mstar_model_all = MODEL_MASS\n",
    "\n",
    "# Mstar_fiber_all = FIBER_MASS"
   ]
  },
  {
   "cell_type": "markdown",
   "metadata": {},
   "source": [
    "## **<span style='color:Cyan '> 7. Assign variables for fiber and total SFR and sSFR an from DR7 catalog from gal_totsfr_dr7_v5_2.fits and  gal_fibsfr_dr7_v5_2.fits</span>**"
   ]
  },
  {
   "cell_type": "code",
   "execution_count": 8,
   "metadata": {
    "tags": []
   },
   "outputs": [],
   "source": [
    "gal_sfr = pyfits.open('/Users/mmckay/Desktop/research/bbrd_lg12_global_ifu_database/gal_totsfr_dr7_v5_2.fits')\n",
    "# gal_sfr.info()\n",
    "# print (gal_sfr[1].columns)\n",
    "tbsfr = gal_sfr[1].data\n",
    "SFR_avg_all = tbsfr['AVG']\n",
    "SFR_med_all = tbsfr['MEDIAN']\n",
    "SFR_flag_all = tbsfr['FLAG']  #want Flag = 0!\n",
    "#print tbsfr[0]\n",
    "\n",
    "gal_fibsfr = pyfits.open('/Users/mmckay/Desktop/research/bbrd_lg12_global_ifu_database/gal_fibsfr_dr7_v5_2.fits')\n",
    "# print (gal_fibsfr[1].columns)\n",
    "tbfibsfr = gal_fibsfr[1].data\n",
    "fibSFR_avg_all = tbfibsfr['AVG']\n",
    "fibSFR_med_all = tbfibsfr['MEDIAN']\n",
    "#fibSFR_flag_all = tbfibsfr['FLAG']\n",
    "gal_fibsfrspec = pyfits.open('/Users/mmckay/Desktop/research/bbrd_lg12_global_ifu_database/gal_fibspecsfr_dr7_v5_2.fits')\n",
    "# print (gal_fibsfrspec[1].columns)\n",
    "tbfibssfr = gal_fibsfrspec[1].data\n",
    "fibsSFR_avg_all = tbfibssfr['AVG']\n",
    "fibsSFR_med_all = tbfibssfr['MEDIAN']\n",
    "#fibsSFR_flag_all = tbfibssfr['FLAG']\n",
    "\n",
    "gal_ssfr = pyfits.open('/Users/mmckay/Desktop/research/bbrd_lg12_global_ifu_database/gal_totspecsfr_dr7_v5_2.fits')\n",
    "# gal_ssfr.info()\n",
    "\n",
    "tbssfr = gal_ssfr[1].data\n",
    "sSFR_avg_all = tbssfr['AVG']\n",
    "sSFR_med_all = tbssfr['MEDIAN']\n",
    "sSFR_flag_all = tbssfr['FLAG']\n",
    "#print tbsfr[0]\n",
    "\n",
    "# print (gal_ssfr[1].columns)"
   ]
  },
  {
   "cell_type": "markdown",
   "metadata": {},
   "source": [
    "## **<span style='color:Cyan '> 8. Select RA and DEC of the BBRD sample from Claire_BBRD126.fits </span>** "
   ]
  },
  {
   "cell_type": "code",
   "execution_count": 9,
   "metadata": {},
   "outputs": [],
   "source": [
    "# cm2Mpc = 3.086e24\n",
    "#Mpc2cm = 3.086e24\n",
    "a = pyfits.open('/Users/mmckay/Desktop/research/bbrd_lg12_global_ifu_database/Claire_BBRD126.fits') # BreakBRD sample\n",
    "#print (a[0,:]) #this is the first row\n",
    "# a.info()\n",
    "adata = a[1].data\n",
    "\n",
    "#print ('this is adata!', adata[0])\n",
    "\n",
    "RA = adata['RA']\n",
    "#print (RA)\n",
    "Dec = adata['Dec']\n",
    "z = adata['redshift']\n",
    "#dist_5neighbor = adata['DIST_5neighbor_arcsecs']\n",
    "#rho_5neighbor = adata['RHO_5NEIGHBOR_MPC_2']\n",
    "#print (len(RA))\n",
    "#print (RA[0:10])\n",
    "#print (RA[-1])"
   ]
  },
  {
   "cell_type": "markdown",
   "metadata": {},
   "source": [
    "## **<span style='color:Cyan '> 9. Select RA and DEC and PlateIDs of the DR7 catalog from gal_info_dr7_v5_2.fit </span>**\n"
   ]
  },
  {
   "cell_type": "code",
   "execution_count": 10,
   "metadata": {},
   "outputs": [],
   "source": [
    "gal_info = pyfits.open('/Users/mmckay/Desktop/research/bbrd_lg12_global_ifu_database/gal_info_dr7_v5_2.fit')\n",
    "# gal_info.info()\n",
    "tbdata = gal_info[1].data\n",
    "# print (tbdata[0])\n",
    "#print tbdata[164510]\n",
    "#print tbdata[440868]\n",
    "#print tbdata[175034]\n",
    "#print tbdata[118529]\n",
    "#print tbdata[590339]\n",
    "#print tbdata[174891]\n",
    "\n",
    "# print (gal_info[1].columns)\n",
    "\n",
    "RAs = tbdata['RA']\n",
    "# print (len(RAs))\n",
    "# print (np.max(RAs),np.min(RAs))\n",
    "Decs = tbdata['Dec']\n",
    "# print (np.max(Decs),np.min(Decs))\n",
    "#print len(Decs)\n",
    "Z = tbdata['Z']\n",
    "PlateIDs = tbdata['PLATEID']\n",
    "FiberIDs = tbdata['FIBERID']\n",
    "#print RA,RAs[0:100]"
   ]
  },
  {
   "cell_type": "markdown",
   "metadata": {},
   "source": [
    "## **<span style='color:Cyan '> 10. Covert RA and DEC to degree </span>**"
   ]
  },
  {
   "cell_type": "code",
   "execution_count": 11,
   "metadata": {},
   "outputs": [
    {
     "name": "stdout",
     "output_type": "stream",
     "text": [
      "-9999.0 170713\n",
      "-9999.0 170713\n"
     ]
    }
   ],
   "source": [
    "i = 0\n",
    "while i < len(Decs):\n",
    "    if RAs[i] < 0.0:\n",
    "        print (RAs[i], i)\n",
    "        RAs[i] = 360.0\n",
    "    if Decs[i] < -90.0:\n",
    "        print (Decs[i],i)\n",
    "        Decs[i] = -90.0\n",
    "    i = i+1\n",
    "    "
   ]
  },
  {
   "cell_type": "markdown",
   "metadata": {},
   "source": [
    "## **<span style='color:Cyan '> 11. Run SkyCoord to crossmatch for BBRD galaxies with DR17 data </span>**"
   ]
  },
  {
   "cell_type": "code",
   "execution_count": 12,
   "metadata": {},
   "outputs": [],
   "source": [
    "c = SkyCoord(ra=RA*u.degree,dec=Dec*u.degree)\n",
    "catalog = SkyCoord(ra=RAs*u.degree,dec=Decs*u.degree)\n",
    "idx,d2d,d3d = c.match_to_catalog_sky(catalog)\n",
    "#idx are indices in catalog that are closest match to RA, Dec in c.\n",
    "#d2d is 2D distance, d3d needs velocity info"
   ]
  },
  {
   "cell_type": "markdown",
   "metadata": {},
   "source": [
    "## **<span style='color:Cyan '> 12. Make databases (CSV) for BBRD sample </span>**"
   ]
  },
  {
   "cell_type": "code",
   "execution_count": 13,
   "metadata": {},
   "outputs": [],
   "source": [
    "# Make astropy Table:\n",
    "from astropy.table import Table\n",
    "\n",
    "bbrd_tab = Table()\n",
    "bbrd_tab['RASDSSinfo'] = RAs[idx]\n",
    "bbrd_tab['DecSDSSinfo'] = Decs[idx]\n",
    "bbrd_tab['zSDSSinfo'] = Z[idx]\n",
    "# fiber emission Flux and errors measurments - Step 1\n",
    "bbrd_tab['HalphaSDSSline [1e-17*erg/cm^2/s]'] = H_Alpha[idx]\n",
    "bbrd_tab['OIII5007SDSSline [1e-17*erg/cm^2/s]'] = OIII_5007[idx]\n",
    "bbrd_tab['OIII4959SDSSline [1e-17*erg/cm^2/s]'] = OIII_4959[idx]\n",
    "bbrd_tab['HbetaSDSSline [1e-17*erg/cm^2/s]'] = H_Beta[idx]\n",
    "bbrd_tab['HdeltaSDSSline [1e-17*erg/cm^2/s]'] = H_Delta[idx]\n",
    "bbrd_tab['N6548SDSS [1e-17*erg/cm^2/s]'] = NII_6548[idx]\n",
    "bbrd_tab['N6584SDSS [1e-17*erg/cm^2/s]'] = NII_6584[idx]\n",
    "bbrd_tab['S6717SDSSline [1e-17*erg/cm^2/s]'] = SII_6717[idx]\n",
    "bbrd_tab['S6731SDSSline [1e-17*erg/cm^2/s]'] = SII_6731[idx]\n",
    "bbrd_tab['OII3726SDSSline [1e-17*erg/cm^2/s]'] = OII_3726[idx]\n",
    "bbrd_tab['OII3729SDSSline [1e-17*erg/cm^2/s]'] = OII_3729[idx]\n",
    "bbrd_tab['OI6300SDSSline [1e-17*erg/cm^2/s]'] = OI_6300[idx]\n",
    "bbrd_tab['HalphaSDSSline_ERR'] = H_Alpha_err[idx]\n",
    "bbrd_tab['OIII5007SDSSline_ERR'] = OIII_5007_err[idx]\n",
    "bbrd_tab['OIII4959SDSSline_ERR'] = OIII_4959_err[idx]\n",
    "bbrd_tab['HbetaSDSSline_ERR'] = H_Beta_err[idx]\n",
    "bbrd_tab['HdeltaSDSSline_ERR'] = H_Delta_err[idx]\n",
    "bbrd_tab['N6548SDSS_ERR'] = NII_6548_err[idx]\n",
    "bbrd_tab['N6583SDSS_ERR'] = NII_6584_err[idx]\n",
    "bbrd_tab['S6717SDSSline_ERR'] = SII_6717_err[idx]\n",
    "bbrd_tab['S6731SDSSline_ERR'] = SII_6731_err[idx]\n",
    "bbrd_tab['OII3726SDSSline_ERR'] = OII_3726_err[idx]\n",
    "bbrd_tab['OII3729SDSSline_ERR'] = OII_3729_err[idx]\n",
    "bbrd_tab['OI6300SDSSline_ERR'] = OI_6300_err[idx]\n",
    "\n",
    "# Oxygen abundance Tremonti 2004 measuremnts -\n",
    "bbrd_tab['LOG_OH+12_T04_med'] = Z_med[idx]\n",
    "bbrd_tab['LOG_OH+12_T04_avg'] = Z_avg[idx]\n",
    "\n",
    "# Median and Avg Total Stellar Mass\n",
    "bbrd_tab['Mstaravg_SDSStotlgm'] = MASS_avg_all[idx]\n",
    "bbrd_tab['Mstarmed_SDSStotlgm'] = MASS_med_all[idx]\n",
    "\n",
    "# Spectral index and errors\n",
    "bbrd_tab['Dn4000SDSSindx '] = D4000n[idx]\n",
    "bbrd_tab['D4000SDSSindx '] = D4000[idx]\n",
    "bbrd_tab['Dn4000SDSSindx_err'] = D4000n[idx]\n",
    "bbrd_tab['D4000SDSSindx_err'] = D4000_err[idx]\n",
    "\n",
    "# Petro Radias\n",
    "bbrd_tab['petroRad'] = petroRad_all[idx]\n",
    "bbrd_tab['petroRadE'] = petroRade_all[idx]\n",
    "bbrd_tab['petroR50'] = petroR50_all[idx]\n",
    "bbrd_tab['petroR50E'] = petroR50e_all[idx]\n",
    "bbrd_tab['petroR90'] = petroR90_all[idx]\n",
    "bbrd_tab['petroR90E'] = petroR90e_all[idx]\n",
    "\n",
    "# k corrected Petro Mass and ugriz magnitude\n",
    "bbrd_tab['PETRO_MASS'] = PETRO_MASS[idx]\n",
    "# bbrd_tab['PETRO_ABSMAG'] = PETRO_ABSMAG[idx]\n",
    "bbrd_tab['MODEL_MASS'] = MODEL_MASS[idx]\n",
    "bbrd_tab['FIBER_MASS'] = FIBER_MASS[idx]\n",
    "\n",
    "bbrd_tab['U_PETRO_ABSMAG'] = U_mag_all[idx]\n",
    "bbrd_tab['G_PETRO_ABSMAG'] = G_mag_all[idx]\n",
    "bbrd_tab['R_PETRO_ABSMAG'] = R_mag_all[idx]\n",
    "bbrd_tab['I_PETRO_ABSMAG'] = I_mag_all[idx]\n",
    "bbrd_tab['Z_PETRO_ABSMAG'] = Z_mag_all[idx]\n",
    "\n",
    "\n",
    "# Fiber and total stellar SFR and sSFR\n",
    "bbrd_tab['SFR_flag_all'] = SFR_flag_all[idx]\n",
    "bbrd_tab['totalSFR_Avg'] = SFR_avg_all[idx]\n",
    "bbrd_tab['totalSFR_Med'] = SFR_avg_all[idx]\n",
    "bbrd_tab['sSFR_avg_all '] = sSFR_avg_all[idx]\n",
    "bbrd_tab['sSFR_med_all '] = sSFR_med_all[idx] \n",
    "bbrd_tab['sSFR_flag_all'] = sSFR_flag_all[idx]\n",
    "\n",
    "bbrd_tab['fibSFR_avg_all'] = fibSFR_avg_all[idx]\n",
    "bbrd_tab['fibSFR_med_all'] = fibSFR_med_all[idx]\n",
    "bbrd_tab['fibsSFR_avg_all'] = fibsSFR_avg_all[idx]\n",
    "bbrd_tab['fibsSFR_med_all'] = fibsSFR_med_all[idx]\n",
    "\n",
    "\n",
    "\n",
    "\n",
    "#bbrd_tab['DIST_5neighbor [arcsec]'] = dist_5neighbor[idx]\n",
    "#bbrd_tab['RHO_5NEIGHBOR [Mpc^2]'] =  rho_5neighbor[idx]\n",
    "bbrd_tab.write('/Users/mmckay/Desktop/research/BreakBRD_LG12_analysis_repo/MM_bbrd126_sdss_table.txt', format='ascii', overwrite=True)\n",
    "bbrd_tab.write('/Users/mmckay/Desktop/research/BreakBRD_LG12_analysis_repo/MM_bbrd126_sdss_neat_table.txt', format='ascii.fixed_width', overwrite=True)\n",
    "bbrd_129_globalcat_df = bbrd_tab.to_pandas()\n",
    "bbrd_129_globalcat_df.to_csv('/Users/mmckay/Desktop/research/BreakBRD_LG12_analysis_repo/MM_bbrd126_sdss_table.csv')\n",
    "\n"
   ]
  },
  {
   "cell_type": "markdown",
   "metadata": {},
   "source": [
    "## **<span style='color:Purple '> 13. Select RA and DEC of the LG12 sample from Claire_compare4643.fits </span>** "
   ]
  },
  {
   "cell_type": "code",
   "execution_count": 14,
   "metadata": {},
   "outputs": [],
   "source": [
    "# cm2Mpc = 3.086e24\n",
    "#Mpc2cm = 3.086e24\n",
    "a = pyfits.open('/Users/mmckay/Desktop/research/bbrd_lg12_global_ifu_database/Claire_compare4643.fits') # BreakBRD sample\n",
    "#print (a[0,:]) #this is the first row\n",
    "# a.info()\n",
    "adata = a[1].data\n",
    "\n",
    "#print ('this is adata!', adata[0])\n",
    "\n",
    "RA = adata['RA']\n",
    "#print (RA)\n",
    "Dec = adata['Dec']\n",
    "z = adata['redshift']\n",
    "#dist_5neighbor = adata['DIST_5neighbor_arcsecs']\n",
    "#rho_5neighbor = adata['RHO_5NEIGHBOR_MPC_2']\n",
    "#print (len(RA))\n",
    "#print (RA[0:10])\n",
    "#print (RA[-1])"
   ]
  },
  {
   "cell_type": "markdown",
   "metadata": {},
   "source": [
    "## **<span style='color:Purple'> 14. Select RA and DEC and PlateIDs of the DR7 catalog from gal_info_dr7_v5_2.fit </span>**\n"
   ]
  },
  {
   "cell_type": "code",
   "execution_count": 15,
   "metadata": {},
   "outputs": [],
   "source": [
    "gal_info = pyfits.open('/Users/mmckay/Desktop/research/bbrd_lg12_global_ifu_database/gal_info_dr7_v5_2.fit')\n",
    "# gal_info.info()\n",
    "tbdata = gal_info[1].data\n",
    "# print (tbdata[0])\n",
    "#print tbdata[164510]\n",
    "#print tbdata[440868]\n",
    "#print tbdata[175034]\n",
    "#print tbdata[118529]\n",
    "#print tbdata[590339]\n",
    "#print tbdata[174891]\n",
    "\n",
    "# print (gal_info[1].columns)\n",
    "\n",
    "RAs = tbdata['RA']\n",
    "# print (len(RAs))\n",
    "# print (np.max(RAs),np.min(RAs))\n",
    "Decs = tbdata['Dec']\n",
    "# print (np.max(Decs),np.min(Decs))\n",
    "#print len(Decs)\n",
    "Z = tbdata['Z']\n",
    "PlateIDs = tbdata['PLATEID']\n",
    "FiberIDs = tbdata['FIBERID']\n",
    "#print RA,RAs[0:100]"
   ]
  },
  {
   "cell_type": "markdown",
   "metadata": {},
   "source": [
    "## **<span style='color:Purple'> 15. Covert RA and DEC to degree </span>**"
   ]
  },
  {
   "cell_type": "code",
   "execution_count": 16,
   "metadata": {},
   "outputs": [
    {
     "name": "stdout",
     "output_type": "stream",
     "text": [
      "-9999.0 170713\n",
      "-9999.0 170713\n"
     ]
    }
   ],
   "source": [
    "i = 0\n",
    "while i < len(Decs):\n",
    "    if RAs[i] < 0.0:\n",
    "        print (RAs[i], i)\n",
    "        RAs[i] = 360.0\n",
    "    if Decs[i] < -90.0:\n",
    "        print (Decs[i],i)\n",
    "        Decs[i] = -90.0\n",
    "    i = i+1\n",
    "    "
   ]
  },
  {
   "cell_type": "markdown",
   "metadata": {},
   "source": [
    "## **<span style='color:Purple'> 16. Run SkyCoord to crossmatch for LG12 galaxies with DR17 data </span>**"
   ]
  },
  {
   "cell_type": "code",
   "execution_count": null,
   "metadata": {},
   "outputs": [],
   "source": [
    "c = SkyCoord(ra=RA*u.degree,dec=Dec*u.degree)\n",
    "catalog = SkyCoord(ra=RAs*u.degree,dec=Decs*u.degree)\n",
    "idx,d2d,d3d = c.match_to_catalog_sky(catalog)\n",
    "#idx are indices in catalog that are closest match to RA, Dec in c.\n",
    "#d2d is 2D distance, d3d needs velocity info"
   ]
  },
  {
   "cell_type": "markdown",
   "metadata": {},
   "source": [
    "## **<span style='color:Purple'> 17. Make databases (CSV) for LG12 sample </span>**"
   ]
  },
  {
   "cell_type": "code",
   "execution_count": null,
   "metadata": {},
   "outputs": [],
   "source": [
    "# Make astropy Table:\n",
    "from astropy.table import Table\n",
    "\n",
    "lg12_tab = Table()\n",
    "lg12_tab['RASDSSinfo'] = RAs[idx]\n",
    "lg12_tab['DecSDSSinfo'] = Decs[idx]\n",
    "lg12_tab['zSDSSinfo'] = Z[idx]\n",
    "# fiber emission Flux and errors measurments - Step 1\n",
    "lg12_tab['HalphaSDSSline [1e-17*erg/cm^2/s]'] = H_Alpha[idx]\n",
    "lg12_tab['OIII5007SDSSline [1e-17*erg/cm^2/s]'] = OIII_5007[idx]\n",
    "lg12_tab['OIII4959SDSSline [1e-17*erg/cm^2/s]'] = OIII_4959[idx]\n",
    "lg12_tab['HbetaSDSSline [1e-17*erg/cm^2/s]'] = H_Beta[idx]\n",
    "lg12_tab['HdeltaSDSSline [1e-17*erg/cm^2/s]'] = H_Delta[idx]\n",
    "lg12_tab['N6548SDSS [1e-17*erg/cm^2/s]'] = NII_6548[idx]\n",
    "lg12_tab['N6584SDSS [1e-17*erg/cm^2/s]'] = NII_6584[idx]\n",
    "lg12_tab['S6717SDSSline [1e-17*erg/cm^2/s]'] = SII_6717[idx]\n",
    "lg12_tab['S6731SDSSline [1e-17*erg/cm^2/s]'] = SII_6731[idx]\n",
    "lg12_tab['OII3726SDSSline [1e-17*erg/cm^2/s]'] = OII_3726[idx]\n",
    "lg12_tab['OII3729SDSSline [1e-17*erg/cm^2/s]'] = OII_3729[idx]\n",
    "lg12_tab['OI6300SDSSline [1e-17*erg/cm^2/s]'] = OI_6300[idx]\n",
    "lg12_tab['HalphaSDSSline_ERR'] = H_Alpha_err[idx]\n",
    "lg12_tab['OIII5007SDSSline_ERR'] = OIII_5007_err[idx]\n",
    "lg12_tab['OIII4959SDSSline_ERR'] = OIII_4959_err[idx]\n",
    "lg12_tab['HbetaSDSSline_ERR'] = H_Beta_err[idx]\n",
    "lg12_tab['HdeltaSDSSline_ERR'] = H_Delta_err[idx]\n",
    "lg12_tab['N6548SDSS_ERR'] = NII_6548_err[idx]\n",
    "lg12_tab['N6583SDSS_ERR'] = NII_6584_err[idx]\n",
    "lg12_tab['S6717SDSSline_ERR'] = SII_6717_err[idx]\n",
    "lg12_tab['S6731SDSSline_ERR'] = SII_6731_err[idx]\n",
    "lg12_tab['OII3726SDSSline_ERR'] = OII_3726_err[idx]\n",
    "lg12_tab['OII3729SDSSline_ERR'] = OII_3729_err[idx]\n",
    "lg12_tab['OI6300SDSSline_ERR'] = OI_6300_err[idx]\n",
    "\n",
    "# Oxygen abundance Tremonti 2004 measuremnts -\n",
    "lg12_tab['LOG_OH+12_T04_med'] = Z_med[idx]\n",
    "lg12_tab['LOG_OH+12_T04_avg'] = Z_avg[idx]\n",
    "\n",
    "# Median and Avg Total Stellar Mass\n",
    "lg12_tab['Mstaravg_SDSStotlgm'] = MASS_avg_all[idx]\n",
    "lg12_tab['Mstarmed_SDSStotlgm'] = MASS_med_all[idx]\n",
    "\n",
    "# Spectral index and errors\n",
    "lg12_tab['Dn4000SDSSindx '] = D4000n[idx]\n",
    "lg12_tab['D4000SDSSindx '] = D4000[idx]\n",
    "lg12_tab['Dn4000SDSSindx_err'] = D4000n[idx]\n",
    "lg12_tab['D4000SDSSindx_err'] = D4000_err[idx]\n",
    "\n",
    "# Petro Radias\n",
    "lg12_tab['petroRad'] = petroRad_all[idx]\n",
    "lg12_tab['petroRadE'] = petroRade_all[idx]\n",
    "lg12_tab['petroR50'] = petroR50_all[idx]\n",
    "lg12_tab['petroR50E'] = petroR50e_all[idx]\n",
    "lg12_tab['petroR90'] = petroR90_all[idx]\n",
    "lg12_tab['petroR90E'] = petroR90e_all[idx]\n",
    "\n",
    "# k corrected Petro Mass and ugriz magnitude\n",
    "lg12_tab['PETRO_MASS'] = PETRO_MASS[idx]\n",
    "# lg12_tab['PETRO_ABSMAG'] = PETRO_ABSMAG[idx]\n",
    "lg12_tab['MODEL_MASS'] = MODEL_MASS[idx]\n",
    "lg12_tab['FIBER_MASS'] = FIBER_MASS[idx]\n",
    "\n",
    "lg12_tab['U_PETRO_ABSMAG'] = U_mag_all[idx]\n",
    "lg12_tab['G_PETRO_ABSMAG'] = G_mag_all[idx]\n",
    "lg12_tab['R_PETRO_ABSMAG'] = R_mag_all[idx]\n",
    "lg12_tab['I_PETRO_ABSMAG'] = I_mag_all[idx]\n",
    "lg12_tab['Z_PETRO_ABSMAG'] = Z_mag_all[idx]\n",
    "\n",
    "\n",
    "# Fiber and total stellar SFR and sSFR\n",
    "lg12_tab['SFR_flag_all'] = SFR_flag_all[idx]\n",
    "lg12_tab['totalSFR_Avg'] = SFR_avg_all[idx]\n",
    "lg12_tab['totalSFR_Med'] = SFR_avg_all[idx]\n",
    "lg12_tab['sSFR_avg_all '] = sSFR_avg_all[idx]\n",
    "lg12_tab['sSFR_med_all '] = sSFR_med_all[idx] \n",
    "lg12_tab['sSFR_flag_all'] = sSFR_flag_all[idx]\n",
    "\n",
    "lg12_tab['fibSFR_avg_all'] = fibSFR_avg_all[idx]\n",
    "lg12_tab['fibSFR_med_all'] = fibSFR_med_all[idx]\n",
    "lg12_tab['fibsSFR_avg_all'] = fibsSFR_avg_all[idx]\n",
    "lg12_tab['fibsSFR_med_all'] = fibsSFR_med_all[idx]\n",
    "\n",
    "\n",
    "\n",
    "\n",
    "#lg12_tab['DIST_5neighbor [arcsec]'] = dist_5neighbor[idx]\n",
    "#lg12_tab['RHO_5NEIGHBOR [Mpc^2]'] =  rho_5neighbor[idx]\n",
    "lg12_tab.write('/Users/mmckay/Desktop/research/BreakBRD_LG12_analysis_repo/MM_lg12_4643_sdss_table.txt', format='ascii', overwrite=True)\n",
    "lg12_tab.write('/Users/mmckay/Desktop/research/BreakBRD_LG12_analysis_repo/MM_lg12_4643_sdss_neat_table.txt', format='ascii.fixed_width', overwrite=True)\n",
    "lg12_129_globalcat_df = lg12_tab.to_pandas()\n",
    "lg12_129_globalcat_df.to_csv('/Users/mmckay/Desktop/research/BreakBRD_LG12_analysis_repo/MM_lg12_4643_sdss_table.csv')\n",
    "\n"
   ]
  },
  {
   "cell_type": "code",
   "execution_count": null,
   "metadata": {},
   "outputs": [],
   "source": []
  }
 ],
 "metadata": {
  "kernelspec": {
   "display_name": "Python 3",
   "language": "python",
   "name": "python3"
  },
  "language_info": {
   "codemirror_mode": {
    "name": "ipython",
    "version": 3
   },
   "file_extension": ".py",
   "mimetype": "text/x-python",
   "name": "python",
   "nbconvert_exporter": "python",
   "pygments_lexer": "ipython3",
   "version": "3.6.10"
  }
 },
 "nbformat": 4,
 "nbformat_minor": 2
}
